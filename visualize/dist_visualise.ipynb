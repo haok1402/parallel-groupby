{
 "cells": [
  {
   "cell_type": "code",
   "execution_count": 4,
   "id": "7fd09258",
   "metadata": {},
   "outputs": [],
   "source": [
    "import polars as pl\n",
    "import numpy as np\n",
    "import random\n",
    "import matplotlib.pyplot as plt\n",
    "import seaborn as sns\n",
    "sns.set_theme(style=\"whitegrid\")"
   ]
  },
  {
   "cell_type": "code",
   "execution_count": 5,
   "id": "abcc20a4",
   "metadata": {},
   "outputs": [],
   "source": [
    "df = pl.read_csv(\"exponential-1M-1K.csv.gz\")"
   ]
  },
  {
   "cell_type": "code",
   "execution_count": 9,
   "id": "b99d8659",
   "metadata": {},
   "outputs": [
    {
     "data": {
      "text/html": [
       "<div><style>\n",
       ".dataframe > thead > tr,\n",
       ".dataframe > tbody > tr {\n",
       "  text-align: right;\n",
       "  white-space: pre-wrap;\n",
       "}\n",
       "</style>\n",
       "<small>shape: (1_000, 2)</small><table border=\"1\" class=\"dataframe\"><thead><tr><th>key</th><th>len</th></tr><tr><td>i64</td><td>u32</td></tr></thead><tbody><tr><td>0</td><td>999001</td></tr><tr><td>1</td><td>1</td></tr><tr><td>2</td><td>1</td></tr><tr><td>3</td><td>1</td></tr><tr><td>4</td><td>1</td></tr><tr><td>&hellip;</td><td>&hellip;</td></tr><tr><td>995</td><td>1</td></tr><tr><td>996</td><td>1</td></tr><tr><td>997</td><td>1</td></tr><tr><td>998</td><td>1</td></tr><tr><td>999</td><td>1</td></tr></tbody></table></div>"
      ],
      "text/plain": [
       "shape: (1_000, 2)\n",
       "┌─────┬────────┐\n",
       "│ key ┆ len    │\n",
       "│ --- ┆ ---    │\n",
       "│ i64 ┆ u32    │\n",
       "╞═════╪════════╡\n",
       "│ 0   ┆ 999001 │\n",
       "│ 1   ┆ 1      │\n",
       "│ 2   ┆ 1      │\n",
       "│ 3   ┆ 1      │\n",
       "│ 4   ┆ 1      │\n",
       "│ …   ┆ …      │\n",
       "│ 995 ┆ 1      │\n",
       "│ 996 ┆ 1      │\n",
       "│ 997 ┆ 1      │\n",
       "│ 998 ┆ 1      │\n",
       "│ 999 ┆ 1      │\n",
       "└─────┴────────┘"
      ]
     },
     "execution_count": 9,
     "metadata": {},
     "output_type": "execute_result"
    }
   ],
   "source": [
    "df.sql(\"select key, count(*) from self group by key order by key\")"
   ]
  },
  {
   "cell_type": "code",
   "execution_count": null,
   "id": "644cc43c",
   "metadata": {},
   "outputs": [],
   "source": [
    "# sns.histplot(data=df, x=\"key\", y=\"val\", discrete=True)\n",
    "# plt.show()\n",
    "sns.histplot(data=df.sql(\"select key, count(*) from self group by key order by key\"), x=\"key\", y=\"len\", discrete=True)\n",
    "plt.show()"
   ]
  }
 ],
 "metadata": {
  "kernelspec": {
   "display_name": "lorax",
   "language": "python",
   "name": "python3"
  },
  "language_info": {
   "codemirror_mode": {
    "name": "ipython",
    "version": 3
   },
   "file_extension": ".py",
   "mimetype": "text/x-python",
   "name": "python",
   "nbconvert_exporter": "python",
   "pygments_lexer": "ipython3",
   "version": "3.11.9"
  }
 },
 "nbformat": 4,
 "nbformat_minor": 5
}
