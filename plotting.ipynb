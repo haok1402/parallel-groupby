{
 "cells": [
  {
   "cell_type": "code",
   "execution_count": 7,
   "id": "a357c71a",
   "metadata": {},
   "outputs": [],
   "source": [
    "import seaborn as sns\n",
    "\n",
    "sns.set_theme(style=\"darkgrid\")\n"
   ]
  },
  {
   "cell_type": "markdown",
   "id": "a72b4454",
   "metadata": {},
   "source": [
    "# cpp_across_strategies"
   ]
  },
  {
   "cell_type": "code",
   "execution_count": 8,
   "id": "a890f6fc",
   "metadata": {},
   "outputs": [],
   "source": [
    "import pandas as pd\n",
    "import matplotlib.pyplot as plt\n",
    "import seaborn as sns\n",
    "\n",
    "# Define the raw data\n",
    "data = [\n",
    "    (\"SEQUENTIAL\", \"aggregation\", 1, 90.8),\n",
    "    (\"GLOBAL_LOCK\", \"aggregation\", 1, 121.8),\n",
    "    (\"GLOBAL_LOCK\", \"aggregation\", 2, 515.6),\n",
    "    (\"GLOBAL_LOCK\", \"aggregation\", 4, 506.8),\n",
    "    (\"GLOBAL_LOCK\", \"aggregation\", 8, 863.4),\n",
    "    (\"GLOBAL_LOCK\", \"aggregation\", 16, 1152.6),\n",
    "    (\"TWO_PHASE_CENTRALIZED_MERGE\", \"aggregation\", 1, 138),\n",
    "    (\"TWO_PHASE_CENTRALIZED_MERGE\", \"aggregation\", 2, 155.2),\n",
    "    (\"TWO_PHASE_CENTRALIZED_MERGE\", \"aggregation\", 4, 173.2),\n",
    "    (\"TWO_PHASE_CENTRALIZED_MERGE\", \"aggregation\", 8, 164.6),\n",
    "    (\"TWO_PHASE_CENTRALIZED_MERGE\", \"aggregation\", 16, 175.6),\n",
    "    (\"SIMPLE_TWO_PHASE_RADIX\", \"aggregation\", 1, 188),\n",
    "    (\"SIMPLE_TWO_PHASE_RADIX\", \"aggregation\", 2, 144),\n",
    "    (\"SIMPLE_TWO_PHASE_RADIX\", \"aggregation\", 4, 81.4),\n",
    "    (\"SIMPLE_TWO_PHASE_RADIX\", \"aggregation\", 8, 51.4),\n",
    "    (\"SIMPLE_TWO_PHASE_RADIX\", \"aggregation\", 16, 32.8),\n",
    "    (\"SIMPLE_THREE_PHASE_RADIX\", \"aggregation\", 1, 221),\n",
    "    (\"SIMPLE_THREE_PHASE_RADIX\", \"aggregation\", 2, 202.2),\n",
    "    (\"SIMPLE_THREE_PHASE_RADIX\", \"aggregation\", 4, 104.8),\n",
    "    (\"SIMPLE_THREE_PHASE_RADIX\", \"aggregation\", 8, 63),\n",
    "    (\"SIMPLE_THREE_PHASE_RADIX\", \"aggregation\", 16, 48.6),\n",
    "    (\"IMPLICIT_REPARTITIONING\", \"aggregation\", 1, 174.6),\n",
    "    (\"IMPLICIT_REPARTITIONING\", \"aggregation\", 2, 106),\n",
    "    (\"IMPLICIT_REPARTITIONING\", \"aggregation\", 4, 53.2),\n",
    "    (\"IMPLICIT_REPARTITIONING\", \"aggregation\", 8, 33.6),\n",
    "    (\"IMPLICIT_REPARTITIONING\", \"aggregation\", 16, 40.4),\n",
    "    (\"DUCKDBISH_TWO_PHASE\", \"aggregation\", 1, 235),\n",
    "    (\"DUCKDBISH_TWO_PHASE\", \"aggregation\", 2, 185.8),\n",
    "    (\"DUCKDBISH_TWO_PHASE\", \"aggregation\", 4, 105.4),\n",
    "    (\"DUCKDBISH_TWO_PHASE\", \"aggregation\", 8, 61),\n",
    "    (\"DUCKDBISH_TWO_PHASE\", \"aggregation\", 16, 50.2),\n",
    "]\n",
    "\n",
    "# Create DataFrame\n",
    "df = pd.DataFrame(data, columns=[\"strategy\", \"category\", \"num_threads\", \"timing_ms\"])\n",
    "\n",
    "# Normalize to speedup over 1 thread for each strategy\n",
    "df_single_thread = df[df[\"num_threads\"] == 1][[\"strategy\", \"timing_ms\"]].set_index(\"strategy\")[\"timing_ms\"]\n",
    "df[\"speedup\"] = df.apply(lambda row: df_single_thread[row[\"strategy\"]] / row[\"timing_ms\"], axis=1)\n",
    "\n",
    "# Plot\n",
    "plt.figure(figsize=(10, 6))\n",
    "sns.lineplot(data=df, x=\"num_threads\", y=\"speedup\", hue=\"strategy\", marker=\"o\")\n",
    "plt.title(\"Speedup of Aggregation Strategies vs Number of Threads\")\n",
    "plt.xlabel(\"Number of Threads\")\n",
    "plt.ylabel(\"Speedup (Relative to 1 Thread)\")\n",
    "plt.xticks([1, 2, 4, 8, 16])\n",
    "plt.grid(True)\n",
    "plt.tight_layout()\n",
    "plt.savefig(\"figures/cpp_across_strategies.png\", dpi=300)\n",
    "plt.close()\n"
   ]
  }
 ],
 "metadata": {
  "kernelspec": {
   "display_name": "venv",
   "language": "python",
   "name": "python3"
  },
  "language_info": {
   "codemirror_mode": {
    "name": "ipython",
    "version": 3
   },
   "file_extension": ".py",
   "mimetype": "text/x-python",
   "name": "python",
   "nbconvert_exporter": "python",
   "pygments_lexer": "ipython3",
   "version": "3.12.3"
  }
 },
 "nbformat": 4,
 "nbformat_minor": 5
}
