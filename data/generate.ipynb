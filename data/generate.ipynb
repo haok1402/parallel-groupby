{
 "cells": [
  {
   "cell_type": "markdown",
   "id": "2b09c02a",
   "metadata": {},
   "source": [
    "# Generate data with distribution control"
   ]
  },
  {
   "cell_type": "code",
   "execution_count": null,
   "id": "41a5506d",
   "metadata": {},
   "outputs": [],
   "source": [
    "import polars as pl\n",
    "import numpy as np\n",
    "import random\n",
    "import matplotlib.pyplot as plt\n",
    "import seaborn as sns\n",
    "sns.set_theme(style=\"whitegrid\")\n",
    "\n",
    "# generate data to test the performance of groupby queries under different distributions of the same number of group keys\n",
    "# generate n_rows tuples with n_groups group keys, the set of group keys range from 0 to n_groups-1\n",
    "# generate tuples of (value, group0, group1, group2, ...) where the i-th group key is distributed as group_distributions[i]. each group should have at least one row\n",
    "\n",
    "n_rows = 10 ** 8\n",
    "n_groups = 10 ** 6\n",
    "group_distributions = [\"uniform\", \"normal\", \"exponential\"]\n",
    "records = []\n",
    "\n",
    "# make sure each group has at least one row\n",
    "for i in range(n_groups):\n",
    "    row = {}\n",
    "    row['value'] = np.random.randint(0, 1000)\n",
    "    for dist in group_distributions:\n",
    "        row[dist] = i\n",
    "    records.append(row)\n",
    "    \n",
    "# all other rows get random group key according to some distribution\n",
    "for i in range(n_rows - n_groups):\n",
    "    row = {}\n",
    "    row['value'] = np.random.randint(0, 1000)\n",
    "    for dist in group_distributions:\n",
    "        match dist:\n",
    "            case \"uniform\":\n",
    "                group_key = random.randint(0, n_groups - 1)\n",
    "            case \"normal\":\n",
    "                group_key = -1\n",
    "                while group_key < 0 or group_key >= n_groups:\n",
    "                    group_key = int(np.random.normal(n_groups / 2, n_groups / 8))\n",
    "            case \"exponential\":\n",
    "                group_key = -1\n",
    "                while group_key < 0 or group_key >= n_groups:\n",
    "                    group_key = int(np.random.exponential(n_groups / 5))\n",
    "        row[dist] = group_key\n",
    "    records.append(row)"
   ]
  },
  {
   "cell_type": "code",
   "execution_count": null,
   "id": "baeb4c44",
   "metadata": {},
   "outputs": [],
   "source": [
    "df = pl.DataFrame(records)\n",
    "df.write_parquet(f\"gen_v1_{n_rows}_{n_groups}.parquet\")"
   ]
  },
  {
   "cell_type": "code",
   "execution_count": null,
   "id": "b323f146",
   "metadata": {},
   "outputs": [],
   "source": [
    "sns.histplot(data=df, x=\"uniform\", discrete=True)\n",
    "plt.show()\n",
    "sns.histplot(data=df, x=\"normal\", discrete=True)\n",
    "plt.show()\n",
    "sns.histplot(data=df, x=\"exponential\", discrete=True)\n",
    "plt.show()"
   ]
  },
  {
   "cell_type": "code",
   "execution_count": null,
   "id": "50f8b1e4",
   "metadata": {},
   "outputs": [],
   "source": [
    "# compute ground truth\n",
    "for dist in group_distributions:\n",
    "    res = df.sql(f\"select {dist}, sum(value) as sum_value from self group by {dist} order by {dist}\")\n",
    "    display(res)"
   ]
  },
  {
   "cell_type": "markdown",
   "id": "2795411b",
   "metadata": {},
   "source": []
  }
 ],
 "metadata": {
  "kernelspec": {
   "display_name": "venv",
   "language": "python",
   "name": "python3"
  },
  "language_info": {
   "codemirror_mode": {
    "name": "ipython",
    "version": 3
   },
   "file_extension": ".py",
   "mimetype": "text/x-python",
   "name": "python",
   "nbconvert_exporter": "python",
   "pygments_lexer": "ipython3",
   "version": "3.12.3"
  }
 },
 "nbformat": 4,
 "nbformat_minor": 5
}
